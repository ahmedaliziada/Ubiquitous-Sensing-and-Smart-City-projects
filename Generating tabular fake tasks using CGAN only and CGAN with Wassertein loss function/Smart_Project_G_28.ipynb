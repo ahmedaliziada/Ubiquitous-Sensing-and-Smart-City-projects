{
  "nbformat": 4,
  "nbformat_minor": 0,
  "metadata": {
    "colab": {
      "name": "Smart Project G-28.ipynb",
      "provenance": [],
      "collapsed_sections": [
        "Mf3wtiNT6Fsm",
        "wFetnnoraBaF",
        "o8gjzbnetNI_",
        "eieLk7myRfPG",
        "qkcwH45RRhLA",
        "uMnSAIQdioDV",
        "JYxFG0J3iLQa",
        "eKIBjtNgoaCz",
        "_xJrsV1Plne_",
        "G5rDOwDcoEgk",
        "BaD0CijYovLL",
        "YbnvomP1Q-AY",
        "kEu0JmyDdWzL",
        "3zGbtpaXVilY",
        "TFkZ2I-7bbO3",
        "_zCkeEz6b0me",
        "g-IEDu3PdmJC",
        "aa7ZA6kSnlm0",
        "TBRLYuH2nlm1",
        "p-kPhgmCnlm4",
        "6LqqMJovnlm4",
        "7cr2jFWLYKhL"
      ]
    },
    "kernelspec": {
      "name": "python3",
      "display_name": "Python 3"
    },
    "language_info": {
      "name": "python"
    }
  },
  "cells": [
    {
      "cell_type": "markdown",
      "source": [
        "## **Important** **packages**"
      ],
      "metadata": {
        "id": "Mf3wtiNT6Fsm"
      }
    },
    {
      "cell_type": "code",
      "source": [
        "!pip install imbalanced-learn"
      ],
      "metadata": {
        "colab": {
          "base_uri": "https://localhost:8080/"
        },
        "id": "KhskgAvMgE0_",
        "outputId": "b9cdbf36-dd32-4151-f79f-b4ecee9992b8"
      },
      "execution_count": null,
      "outputs": [
        {
          "output_type": "stream",
          "name": "stdout",
          "text": [
            "Looking in indexes: https://pypi.org/simple, https://us-python.pkg.dev/colab-wheels/public/simple/\n",
            "Requirement already satisfied: imbalanced-learn in /usr/local/lib/python3.7/dist-packages (0.8.1)\n",
            "Requirement already satisfied: scipy>=0.19.1 in /usr/local/lib/python3.7/dist-packages (from imbalanced-learn) (1.7.3)\n",
            "Requirement already satisfied: numpy>=1.13.3 in /usr/local/lib/python3.7/dist-packages (from imbalanced-learn) (1.21.6)\n",
            "Requirement already satisfied: scikit-learn>=0.24 in /usr/local/lib/python3.7/dist-packages (from imbalanced-learn) (1.0.2)\n",
            "Requirement already satisfied: joblib>=0.11 in /usr/local/lib/python3.7/dist-packages (from imbalanced-learn) (1.1.0)\n",
            "Requirement already satisfied: threadpoolctl>=2.0.0 in /usr/local/lib/python3.7/dist-packages (from scikit-learn>=0.24->imbalanced-learn) (3.1.0)\n"
          ]
        }
      ]
    },
    {
      "cell_type": "code",
      "source": [
        "#Import important packages \n",
        "import pandas as pd\n",
        "import numpy as np\n",
        "import sklearn as sk\n",
        "import seaborn as sns\n",
        "import matplotlib.pyplot as plt\n",
        "from sklearn.metrics import accuracy_score\n",
        "from sklearn.metrics import classification_report\n",
        "from imblearn.over_sampling import SMOTE\n",
        "%matplotlib inline"
      ],
      "metadata": {
        "id": "i5jfFUpZSftI"
      },
      "execution_count": null,
      "outputs": []
    },
    {
      "cell_type": "markdown",
      "source": [
        "## **Read Data**"
      ],
      "metadata": {
        "id": "wFetnnoraBaF"
      }
    },
    {
      "cell_type": "code",
      "source": [
        "#Load the MCSDataset\n",
        "!gdown --id 1TN747ThLte9eOABv5fIkdr_4L2kO3AE4"
      ],
      "metadata": {
        "colab": {
          "base_uri": "https://localhost:8080/"
        },
        "id": "YitooYO1F6cL",
        "outputId": "2e11dbf7-fdb7-4c75-b675-073a5d8db055"
      },
      "execution_count": null,
      "outputs": [
        {
          "output_type": "stream",
          "name": "stdout",
          "text": [
            "/usr/local/lib/python3.7/dist-packages/gdown/cli.py:131: FutureWarning: Option `--id` was deprecated in version 4.3.1 and will be removed in 5.0. You don't need to pass it anymore to use a file ID.\n",
            "  category=FutureWarning,\n",
            "Downloading...\n",
            "From: https://drive.google.com/uc?id=1TN747ThLte9eOABv5fIkdr_4L2kO3AE4\n",
            "To: /content/MCSDatasetNEXTCONLab.csv\n",
            "100% 867k/867k [00:00<00:00, 111MB/s]\n"
          ]
        }
      ]
    },
    {
      "cell_type": "code",
      "source": [
        "df= pd.read_csv('/content/MCSDatasetNEXTCONLab.csv')\n",
        "df.sample(frac=1  , random_state=2).reset_index(drop=True)\n",
        "df.head()"
      ],
      "metadata": {
        "colab": {
          "base_uri": "https://localhost:8080/",
          "height": 206
        },
        "id": "IsFEVHhjS_jH",
        "outputId": "5f49ecf1-4c46-4ba5-bcad-f5f5e8cc0183"
      },
      "execution_count": null,
      "outputs": [
        {
          "output_type": "execute_result",
          "data": {
            "text/plain": [
              "   ID   Latitude  Longitude  Day  Hour  Minute  Duration  RemainingTime  \\\n",
              "0   1  45.442142 -75.303369    1     4      13        40             40   \n",
              "1   1  45.442154 -75.304366    1     4      23        40             30   \n",
              "2   1  45.442104 -75.303963    1     4      33        40             20   \n",
              "3   1  45.441868 -75.303577    1     4      43        40             10   \n",
              "4   2  45.447727 -75.147722    2    15      49        30             30   \n",
              "\n",
              "   Resources  Coverage  OnPeakHours  GridNumber  Ligitimacy  \n",
              "0          9        91            0      131380           1  \n",
              "1          9        91            0      131380           1  \n",
              "2          9        91            0      121996           1  \n",
              "3          9        91            0      121996           1  \n",
              "4          5        47            0      140784           1  "
            ],
            "text/html": [
              "\n",
              "  <div id=\"df-96ddf872-8870-450c-98dc-2431aed237b9\">\n",
              "    <div class=\"colab-df-container\">\n",
              "      <div>\n",
              "<style scoped>\n",
              "    .dataframe tbody tr th:only-of-type {\n",
              "        vertical-align: middle;\n",
              "    }\n",
              "\n",
              "    .dataframe tbody tr th {\n",
              "        vertical-align: top;\n",
              "    }\n",
              "\n",
              "    .dataframe thead th {\n",
              "        text-align: right;\n",
              "    }\n",
              "</style>\n",
              "<table border=\"1\" class=\"dataframe\">\n",
              "  <thead>\n",
              "    <tr style=\"text-align: right;\">\n",
              "      <th></th>\n",
              "      <th>ID</th>\n",
              "      <th>Latitude</th>\n",
              "      <th>Longitude</th>\n",
              "      <th>Day</th>\n",
              "      <th>Hour</th>\n",
              "      <th>Minute</th>\n",
              "      <th>Duration</th>\n",
              "      <th>RemainingTime</th>\n",
              "      <th>Resources</th>\n",
              "      <th>Coverage</th>\n",
              "      <th>OnPeakHours</th>\n",
              "      <th>GridNumber</th>\n",
              "      <th>Ligitimacy</th>\n",
              "    </tr>\n",
              "  </thead>\n",
              "  <tbody>\n",
              "    <tr>\n",
              "      <th>0</th>\n",
              "      <td>1</td>\n",
              "      <td>45.442142</td>\n",
              "      <td>-75.303369</td>\n",
              "      <td>1</td>\n",
              "      <td>4</td>\n",
              "      <td>13</td>\n",
              "      <td>40</td>\n",
              "      <td>40</td>\n",
              "      <td>9</td>\n",
              "      <td>91</td>\n",
              "      <td>0</td>\n",
              "      <td>131380</td>\n",
              "      <td>1</td>\n",
              "    </tr>\n",
              "    <tr>\n",
              "      <th>1</th>\n",
              "      <td>1</td>\n",
              "      <td>45.442154</td>\n",
              "      <td>-75.304366</td>\n",
              "      <td>1</td>\n",
              "      <td>4</td>\n",
              "      <td>23</td>\n",
              "      <td>40</td>\n",
              "      <td>30</td>\n",
              "      <td>9</td>\n",
              "      <td>91</td>\n",
              "      <td>0</td>\n",
              "      <td>131380</td>\n",
              "      <td>1</td>\n",
              "    </tr>\n",
              "    <tr>\n",
              "      <th>2</th>\n",
              "      <td>1</td>\n",
              "      <td>45.442104</td>\n",
              "      <td>-75.303963</td>\n",
              "      <td>1</td>\n",
              "      <td>4</td>\n",
              "      <td>33</td>\n",
              "      <td>40</td>\n",
              "      <td>20</td>\n",
              "      <td>9</td>\n",
              "      <td>91</td>\n",
              "      <td>0</td>\n",
              "      <td>121996</td>\n",
              "      <td>1</td>\n",
              "    </tr>\n",
              "    <tr>\n",
              "      <th>3</th>\n",
              "      <td>1</td>\n",
              "      <td>45.441868</td>\n",
              "      <td>-75.303577</td>\n",
              "      <td>1</td>\n",
              "      <td>4</td>\n",
              "      <td>43</td>\n",
              "      <td>40</td>\n",
              "      <td>10</td>\n",
              "      <td>9</td>\n",
              "      <td>91</td>\n",
              "      <td>0</td>\n",
              "      <td>121996</td>\n",
              "      <td>1</td>\n",
              "    </tr>\n",
              "    <tr>\n",
              "      <th>4</th>\n",
              "      <td>2</td>\n",
              "      <td>45.447727</td>\n",
              "      <td>-75.147722</td>\n",
              "      <td>2</td>\n",
              "      <td>15</td>\n",
              "      <td>49</td>\n",
              "      <td>30</td>\n",
              "      <td>30</td>\n",
              "      <td>5</td>\n",
              "      <td>47</td>\n",
              "      <td>0</td>\n",
              "      <td>140784</td>\n",
              "      <td>1</td>\n",
              "    </tr>\n",
              "  </tbody>\n",
              "</table>\n",
              "</div>\n",
              "      <button class=\"colab-df-convert\" onclick=\"convertToInteractive('df-96ddf872-8870-450c-98dc-2431aed237b9')\"\n",
              "              title=\"Convert this dataframe to an interactive table.\"\n",
              "              style=\"display:none;\">\n",
              "        \n",
              "  <svg xmlns=\"http://www.w3.org/2000/svg\" height=\"24px\"viewBox=\"0 0 24 24\"\n",
              "       width=\"24px\">\n",
              "    <path d=\"M0 0h24v24H0V0z\" fill=\"none\"/>\n",
              "    <path d=\"M18.56 5.44l.94 2.06.94-2.06 2.06-.94-2.06-.94-.94-2.06-.94 2.06-2.06.94zm-11 1L8.5 8.5l.94-2.06 2.06-.94-2.06-.94L8.5 2.5l-.94 2.06-2.06.94zm10 10l.94 2.06.94-2.06 2.06-.94-2.06-.94-.94-2.06-.94 2.06-2.06.94z\"/><path d=\"M17.41 7.96l-1.37-1.37c-.4-.4-.92-.59-1.43-.59-.52 0-1.04.2-1.43.59L10.3 9.45l-7.72 7.72c-.78.78-.78 2.05 0 2.83L4 21.41c.39.39.9.59 1.41.59.51 0 1.02-.2 1.41-.59l7.78-7.78 2.81-2.81c.8-.78.8-2.07 0-2.86zM5.41 20L4 18.59l7.72-7.72 1.47 1.35L5.41 20z\"/>\n",
              "  </svg>\n",
              "      </button>\n",
              "      \n",
              "  <style>\n",
              "    .colab-df-container {\n",
              "      display:flex;\n",
              "      flex-wrap:wrap;\n",
              "      gap: 12px;\n",
              "    }\n",
              "\n",
              "    .colab-df-convert {\n",
              "      background-color: #E8F0FE;\n",
              "      border: none;\n",
              "      border-radius: 50%;\n",
              "      cursor: pointer;\n",
              "      display: none;\n",
              "      fill: #1967D2;\n",
              "      height: 32px;\n",
              "      padding: 0 0 0 0;\n",
              "      width: 32px;\n",
              "    }\n",
              "\n",
              "    .colab-df-convert:hover {\n",
              "      background-color: #E2EBFA;\n",
              "      box-shadow: 0px 1px 2px rgba(60, 64, 67, 0.3), 0px 1px 3px 1px rgba(60, 64, 67, 0.15);\n",
              "      fill: #174EA6;\n",
              "    }\n",
              "\n",
              "    [theme=dark] .colab-df-convert {\n",
              "      background-color: #3B4455;\n",
              "      fill: #D2E3FC;\n",
              "    }\n",
              "\n",
              "    [theme=dark] .colab-df-convert:hover {\n",
              "      background-color: #434B5C;\n",
              "      box-shadow: 0px 1px 3px 1px rgba(0, 0, 0, 0.15);\n",
              "      filter: drop-shadow(0px 1px 2px rgba(0, 0, 0, 0.3));\n",
              "      fill: #FFFFFF;\n",
              "    }\n",
              "  </style>\n",
              "\n",
              "      <script>\n",
              "        const buttonEl =\n",
              "          document.querySelector('#df-96ddf872-8870-450c-98dc-2431aed237b9 button.colab-df-convert');\n",
              "        buttonEl.style.display =\n",
              "          google.colab.kernel.accessAllowed ? 'block' : 'none';\n",
              "\n",
              "        async function convertToInteractive(key) {\n",
              "          const element = document.querySelector('#df-96ddf872-8870-450c-98dc-2431aed237b9');\n",
              "          const dataTable =\n",
              "            await google.colab.kernel.invokeFunction('convertToInteractive',\n",
              "                                                     [key], {});\n",
              "          if (!dataTable) return;\n",
              "\n",
              "          const docLinkHtml = 'Like what you see? Visit the ' +\n",
              "            '<a target=\"_blank\" href=https://colab.research.google.com/notebooks/data_table.ipynb>data table notebook</a>'\n",
              "            + ' to learn more about interactive tables.';\n",
              "          element.innerHTML = '';\n",
              "          dataTable['output_type'] = 'display_data';\n",
              "          await google.colab.output.renderOutput(dataTable, element);\n",
              "          const docLink = document.createElement('div');\n",
              "          docLink.innerHTML = docLinkHtml;\n",
              "          element.appendChild(docLink);\n",
              "        }\n",
              "      </script>\n",
              "    </div>\n",
              "  </div>\n",
              "  "
            ]
          },
          "metadata": {},
          "execution_count": 140
        }
      ]
    },
    {
      "cell_type": "code",
      "source": [
        "df.drop('ID', inplace=True, axis=1)"
      ],
      "metadata": {
        "id": "MciF8cb2WL4N"
      },
      "execution_count": null,
      "outputs": []
    },
    {
      "cell_type": "code",
      "source": [
        "#split the training data into data and target\n",
        "dataset = df.iloc[:, :-1]\n",
        "target = df.iloc[:,-1]"
      ],
      "metadata": {
        "id": "df7HxJjterRW"
      },
      "execution_count": null,
      "outputs": []
    },
    {
      "cell_type": "code",
      "source": [
        "dataset = dataset.astype(\"float32\")"
      ],
      "metadata": {
        "id": "eaErQN8PzFMS"
      },
      "execution_count": null,
      "outputs": []
    },
    {
      "cell_type": "code",
      "source": [
        "from sklearn.model_selection import train_test_split\n",
        "X_train, X_test, y_train, y_test = train_test_split(dataset, target ,test_size=0.2, random_state = 2)\n",
        "print('Training set length: {} Row'.format(len(X_train)))\n",
        "print('Testing set length: {} Row'.format(len(X_test)))"
      ],
      "metadata": {
        "colab": {
          "base_uri": "https://localhost:8080/"
        },
        "id": "085fOK0wf5lK",
        "outputId": "497eb7e0-c40f-4c3f-a1c9-b49f2446098e"
      },
      "execution_count": null,
      "outputs": [
        {
          "output_type": "stream",
          "name": "stdout",
          "text": [
            "Training set length: 11587 Row\n",
            "Testing set length: 2897 Row\n"
          ]
        }
      ]
    },
    {
      "cell_type": "code",
      "source": [
        "from sklearn.preprocessing import MinMaxScaler\n",
        "scaler = MinMaxScaler(feature_range=(-1,1))\n",
        "X_train = scaler.fit_transform(X_train)\n",
        "X_test=scaler.transform(X_test)"
      ],
      "metadata": {
        "id": "-2mZJ6daLMse"
      },
      "execution_count": null,
      "outputs": []
    },
    {
      "cell_type": "markdown",
      "source": [
        "## **Classic Classifiers**"
      ],
      "metadata": {
        "id": "o8gjzbnetNI_"
      }
    },
    {
      "cell_type": "markdown",
      "source": [
        "### RandomForestClassifier"
      ],
      "metadata": {
        "id": "eieLk7myRfPG"
      }
    },
    {
      "cell_type": "code",
      "source": [
        "#applaying RandomForestClassifier\n",
        "from sklearn.ensemble import RandomForestClassifier\n",
        "rf = RandomForestClassifier(max_depth = 10 , random_state = 4)\n",
        "rf.fit(X_train, y_train)\n",
        "pre_rf =  rf.predict(X_test)\n",
        "pre_rf_train = rf.predict(X_train)\n",
        "rf_testing_acc = accuracy_score(y_test, pre_rf)\n",
        "rf_trianing_acc = accuracy_score(y_train, pre_rf_train)"
      ],
      "metadata": {
        "id": "70R-yduxZOP2"
      },
      "execution_count": null,
      "outputs": []
    },
    {
      "cell_type": "code",
      "source": [
        "print('testing accuracy of Random Forest Classifier: {} %'.format(rf_testing_acc * 100))\n",
        "print('training accuracy of Random Forest Classifier: {} %'.format(rf_trianing_acc * 100))\n",
        "print('---------------------------------------------------------------')\n",
        "print(classification_report(y_test, pre_rf))"
      ],
      "metadata": {
        "colab": {
          "base_uri": "https://localhost:8080/"
        },
        "id": "jiu0g-qFRmea",
        "outputId": "01bbbb47-f86c-4645-9634-40a48dfc0037"
      },
      "execution_count": null,
      "outputs": [
        {
          "output_type": "stream",
          "name": "stdout",
          "text": [
            "testing accuracy of Random Forest Classifier: 96.82430100103555 %\n",
            "training accuracy of Random Forest Classifier: 98.0581686372659 %\n",
            "---------------------------------------------------------------\n",
            "              precision    recall  f1-score   support\n",
            "\n",
            "           0       0.97      0.77      0.86       369\n",
            "           1       0.97      1.00      0.98      2528\n",
            "\n",
            "    accuracy                           0.97      2897\n",
            "   macro avg       0.97      0.88      0.92      2897\n",
            "weighted avg       0.97      0.97      0.97      2897\n",
            "\n"
          ]
        }
      ]
    },
    {
      "cell_type": "markdown",
      "source": [
        "### AdaBoostClassifier"
      ],
      "metadata": {
        "id": "qkcwH45RRhLA"
      }
    },
    {
      "cell_type": "code",
      "source": [
        "#applaying AdaBoostClassifier\n",
        "from sklearn.ensemble import AdaBoostClassifier\n",
        "ad = AdaBoostClassifier(n_estimators=100,random_state = 4)\n",
        "ad.fit(X_train , y_train )\n",
        "pre_ad = ad.predict(X_test)\n",
        "pre_ad_train = ad.predict(X_train)\n",
        "ad_testing_acc = accuracy_score(y_test, pre_ad)\n",
        "ad_trianing_acc = accuracy_score(y_train, pre_ad_train)"
      ],
      "metadata": {
        "id": "4sH2ybBkZz9s"
      },
      "execution_count": null,
      "outputs": []
    },
    {
      "cell_type": "code",
      "source": [
        "print('testing accuracy of AdaBoost Classifier: {} %'.format(ad_testing_acc * 100))\n",
        "print('training accuracy of AdaBoost Classifier: {} %'.format(ad_trianing_acc * 100))\n",
        "print('---------------------------------------------------------------')\n",
        "print(classification_report(y_test, pre_ad))"
      ],
      "metadata": {
        "colab": {
          "base_uri": "https://localhost:8080/"
        },
        "id": "8X30auKXSCOc",
        "outputId": "e1b87d7c-ab7d-4c13-82ed-a7c8fb4761c9"
      },
      "execution_count": null,
      "outputs": [
        {
          "output_type": "stream",
          "name": "stdout",
          "text": [
            "testing accuracy of AdaBoost Classifier: 96.47911632723508 %\n",
            "training accuracy of AdaBoost Classifier: 97.47993440925174 %\n",
            "---------------------------------------------------------------\n",
            "              precision    recall  f1-score   support\n",
            "\n",
            "           0       0.90      0.81      0.85       369\n",
            "           1       0.97      0.99      0.98      2528\n",
            "\n",
            "    accuracy                           0.96      2897\n",
            "   macro avg       0.94      0.90      0.92      2897\n",
            "weighted avg       0.96      0.96      0.96      2897\n",
            "\n"
          ]
        }
      ]
    },
    {
      "cell_type": "markdown",
      "source": [
        "### Plotting"
      ],
      "metadata": {
        "id": "uMnSAIQdioDV"
      }
    },
    {
      "cell_type": "code",
      "source": [
        "dic = {\n",
        "    'classifiers': ['RF' , 'Adaboost'],\n",
        "    'Accuracies' : [rf_testing_acc,ad_testing_acc] }\n",
        "\n",
        "accuracies = pd.DataFrame.from_dict(dic)"
      ],
      "metadata": {
        "id": "tAdYvDl-i5Dz"
      },
      "execution_count": null,
      "outputs": []
    },
    {
      "cell_type": "code",
      "source": [
        "sns.set_theme(style=\"whitegrid\")\n",
        "sns.set(rc={'figure.figsize':(11.7,8.27)})\n",
        "ax = sns.barplot(x=\"classifiers\",y=\"Accuracies\",data=accuracies, palette=\"Reds\")\n",
        "\n",
        "plt.xlabel(\"classifiers\", fontsize = 15)\n",
        "plt.ylabel(\"Accuracies\", fontsize = 15)\n",
        "plt.title(\"Accuracy comparison results\", fontsize = 20) \n",
        "plt.show()"
      ],
      "metadata": {
        "colab": {
          "base_uri": "https://localhost:8080/",
          "height": 540
        },
        "id": "jvo9sYnJixnE",
        "outputId": "653d9efa-eedf-4b74-9f17-56f069dd2f7b"
      },
      "execution_count": null,
      "outputs": [
        {
          "output_type": "display_data",
          "data": {
            "text/plain": [
              "<Figure size 842.4x595.44 with 1 Axes>"
            ],
            "image/png": "[encoded data removed]"
          },
          "metadata": {}
        }
      ]
    },
    {
      "cell_type": "markdown",
      "source": [
        "## **Conditional GAN**"
      ],
      "metadata": {
        "id": "JYxFG0J3iLQa"
      }
    },
    {
      "cell_type": "markdown",
      "source": [
        "### Prepare GAN"
      ],
      "metadata": {
        "id": "eKIBjtNgoaCz"
      }
    },
    {
      "cell_type": "code",
      "source": [
        "# !pip uninstall keras\n",
        "# !pip install keras==2.2.4\n",
        "# !pip install tensorflow"
      ],
      "metadata": {
        "id": "6PicxAeDz2Nc"
      },
      "execution_count": null,
      "outputs": []
    },
    {
      "cell_type": "code",
      "source": [
        "# !pip install -q git+https://github.com/tensorflow/docs "
      ],
      "metadata": {
        "id": "lLokp1iikI-r"
      },
      "execution_count": null,
      "outputs": []
    },
    {
      "cell_type": "code",
      "source": [
        "from tensorflow import keras\n",
        "from tensorflow.keras import layers\n",
        "import tensorflow as tf\n",
        "import imageio"
      ],
      "metadata": {
        "id": "va7NbjR2iMy2"
      },
      "execution_count": null,
      "outputs": []
    },
    {
      "cell_type": "code",
      "source": [
        "#Constants and hyperparameters\n",
        "batch_size = 64\n",
        "num_channels = 11\n",
        "num_classes = 2\n",
        "latent_dim = 128"
      ],
      "metadata": {
        "id": "7Ha6njT8kExR"
      },
      "execution_count": null,
      "outputs": []
    },
    {
      "cell_type": "code",
      "source": [
        "#Calculating the number of input channel for the generator and discriminator\n",
        "generator_in_channels = latent_dim + num_classes\n",
        "discriminator_in_channels = num_channels + num_classes\n",
        "print(generator_in_channels, discriminator_in_channels)"
      ],
      "metadata": {
        "colab": {
          "base_uri": "https://localhost:8080/"
        },
        "id": "dy3H-ypdkXJg",
        "outputId": "059774b9-6ecf-4671-98eb-b77194aacd7b"
      },
      "execution_count": null,
      "outputs": [
        {
          "output_type": "stream",
          "name": "stdout",
          "text": [
            "130 13\n"
          ]
        }
      ]
    },
    {
      "cell_type": "code",
      "source": [
        "labels = keras.utils.to_categorical(y_train, 2)\n",
        "# Create tf.data.Dataset.\n",
        "data = tf.data.Dataset.from_tensor_slices((X_train ,labels))\n",
        "data = data.shuffle(buffer_size=1024).batch(batch_size)\n",
        "\n",
        "print(f\"Shape of training set: {X_train.shape}\")\n",
        "print(f\"Shape of training set: {labels.shape}\")"
      ],
      "metadata": {
        "colab": {
          "base_uri": "https://localhost:8080/"
        },
        "id": "myPFrLGmGinA",
        "outputId": "dc94fe0c-5f47-4059-973c-c49ec8dd599f"
      },
      "execution_count": null,
      "outputs": [
        {
          "output_type": "stream",
          "name": "stdout",
          "text": [
            "Shape of training set: (11587, 11)\n",
            "Shape of training set: (11587, 2)\n"
          ]
        }
      ]
    },
    {
      "cell_type": "markdown",
      "source": [
        "### Creating the discriminator and generator"
      ],
      "metadata": {
        "id": "_xJrsV1Plne_"
      }
    },
    {
      "cell_type": "code",
      "source": [
        "# Core layers\n",
        "from keras.layers \\\n",
        "    import Activation, Dropout, Flatten, Dense, Input, LeakyReLU\n",
        "\n",
        "# Normalization layers\n",
        "from keras.layers import BatchNormalization\n",
        "\n",
        "# Merge layers\n",
        "from keras.layers import concatenate, multiply\n",
        "\n",
        "# Embedding Layers\n",
        "from keras.layers import Embedding\n",
        "\n",
        "# Keras models\n",
        "from keras.models import Model, Sequential\n",
        "\n",
        "# Keras optimizers\n",
        "from tensorflow.keras.optimizers import Adam \n",
        "from tensorflow.keras.optimizers import RMSprop, SGD\n"
      ],
      "metadata": {
        "id": "0Nf54Xw4Me9j"
      },
      "execution_count": null,
      "outputs": []
    },
    {
      "cell_type": "code",
      "source": [
        "# Create the discriminator.\n",
        "discriminator = keras.Sequential(\n",
        "    [\n",
        "        keras.layers.InputLayer(input_shape =   discriminator_in_channels),\n",
        "        layers.Dense(512),\n",
        "        layers.LeakyReLU(alpha=0.2),\n",
        "        layers.Dense(256),\n",
        "        layers.LeakyReLU(alpha=0.2),\n",
        "\n",
        "        layers.Dense(1 ,activation=\"tanh\")\n",
        "    ],\n",
        "    name=\"discriminator\",\n",
        ")"
      ],
      "metadata": {
        "id": "VzY__NCZGY0N"
      },
      "execution_count": null,
      "outputs": []
    },
    {
      "cell_type": "code",
      "source": [
        "# Create the generator.\n",
        "generator = keras.Sequential(\n",
        "    [\n",
        "        keras.layers.InputLayer((generator_in_channels)),\n",
        "        layers.Dense(256),\n",
        "        layers.LeakyReLU(alpha=0.2),\n",
        "        layers.BatchNormalization(momentum=0.8),\n",
        "        layers.Dense(512),\n",
        "        layers.LeakyReLU(alpha=0.2),\n",
        "        layers.BatchNormalization(momentum=0.8),\n",
        "        layers.Dense(11,activation=\"tanh\")\n",
        "    ],\n",
        "    name=\"generator\",\n",
        ")"
      ],
      "metadata": {
        "id": "XBnowV1snqXb"
      },
      "execution_count": null,
      "outputs": []
    },
    {
      "cell_type": "markdown",
      "source": [
        "### Creating a ConditionalGAN model"
      ],
      "metadata": {
        "id": "G5rDOwDcoEgk"
      }
    },
    {
      "cell_type": "code",
      "source": [
        "class ConditionalGAN(keras.Model):\n",
        "    def __init__(self, discriminator, generator, latent_dim):\n",
        "        super(ConditionalGAN, self).__init__()\n",
        "        self.discriminator = discriminator\n",
        "        self.generator = generator\n",
        "        self.latent_dim = latent_dim\n",
        "        self.gen_loss_tracker = keras.metrics.Mean(name=\"generator_loss\")\n",
        "        self.disc_loss_tracker = keras.metrics.Mean(name=\"discriminator_loss\")\n",
        "\n",
        "    @property\n",
        "    def metrics(self):\n",
        "        return [self.gen_loss_tracker, self.disc_loss_tracker]\n",
        "\n",
        "    def compile(self, d_optimizer, g_optimizer, loss_fn):\n",
        "        super(ConditionalGAN, self).compile()\n",
        "        self.d_optimizer = d_optimizer\n",
        "        self.g_optimizer = g_optimizer\n",
        "        self.loss_fn = loss_fn\n",
        "\n",
        "    def train_step(self, data):\n",
        "        # Unpack the data.\n",
        "        real_Tasks, one_hot_labels = data\n",
        "        # Add dummy dimensions to the labels so that they can be concatenated with\n",
        "        # the Tasks. This is for the discriminator.\n",
        "\n",
        "        Task_one_hot_labels = one_hot_labels[:, :, None, None]\n",
        "        Task_one_hot_labels = tf.reshape(\n",
        "            Task_one_hot_labels, (-1,  num_classes)\n",
        "        )\n",
        "\n",
        "        # Sample random points in the latent space and concatenate the labels.\n",
        "        # This is for the generator.\n",
        "        batch_size = tf.shape(real_Tasks)[0]\n",
        "        random_latent_vectors = tf.random.normal(shape=(batch_size, self.latent_dim))\n",
        "        random_vector_labels = tf.concat(\n",
        "            [random_latent_vectors, one_hot_labels], axis=1\n",
        "        )\n",
        "\n",
        "        # Decode the noise (guided by labels) to fake Tasks.\n",
        "        generated_Tasks = self.generator(random_vector_labels)\n",
        "\n",
        "        # Combine them with real Tasks. Note that we are concatenating the labels\n",
        "        # with these Tasks here.\n",
        "        fake_Task_and_labels = tf.concat([generated_Tasks, Task_one_hot_labels], -1)\n",
        "\n",
        "        real_Task_and_labels = tf.concat([real_Tasks, Task_one_hot_labels], -1)\n",
        "\n",
        "        combined_Tasks = tf.concat(\n",
        "            [fake_Task_and_labels, real_Task_and_labels], axis=0\n",
        "        )\n",
        "\n",
        "        # Assemble labels discriminating real from fake Tasks.\n",
        "        labels = tf.concat(\n",
        "            [tf.ones((batch_size, 1)), tf.zeros((batch_size, 1))], axis=0\n",
        "        )\n",
        "\n",
        "        # Train the discriminator.\n",
        "        with tf.GradientTape() as tape:\n",
        "\n",
        "            predictions = self.discriminator(combined_Tasks)\n",
        "            d_loss = self.loss_fn(labels, predictions)\n",
        "        grads = tape.gradient(d_loss, self.discriminator.trainable_weights)\n",
        "        self.d_optimizer.apply_gradients(\n",
        "            zip(grads, self.discriminator.trainable_weights)\n",
        "        )\n",
        "\n",
        "        # Sample random points in the latent space.\n",
        "        random_latent_vectors = tf.random.normal(shape=(batch_size, self.latent_dim))\n",
        "        random_vector_labels = tf.concat(\n",
        "            [random_latent_vectors, one_hot_labels], axis=1\n",
        "        )\n",
        "\n",
        "        # Assemble labels that say \"all real Tasks\".\n",
        "        misleading_labels = tf.zeros((batch_size, 1))\n",
        "        \n",
        "        # Train the generator (note that we should *not* update the weights\n",
        "        # of the discriminator)!\n",
        "        with tf.GradientTape() as tape:\n",
        "            fake_Tasks = self.generator(random_vector_labels)\n",
        "            fake_Task_and_labels = tf.concat([fake_Tasks, Task_one_hot_labels], -1)\n",
        "\n",
        "            predictions = self.discriminator(fake_Task_and_labels)\n",
        "            g_loss = self.loss_fn(misleading_labels, predictions)\n",
        "        grads = tape.gradient(g_loss, self.generator.trainable_weights)\n",
        "        self.g_optimizer.apply_gradients(zip(grads, self.generator.trainable_weights))\n",
        "\n",
        "        # Monitor loss.\n",
        "        self.gen_loss_tracker.update_state(g_loss)\n",
        "        self.disc_loss_tracker.update_state(d_loss)\n",
        "        return {\n",
        "            \"g_loss\": self.gen_loss_tracker.result(),\n",
        "            \"d_loss\": self.disc_loss_tracker.result(),\n",
        "        }"
      ],
      "metadata": {
        "id": "S2-FcXqPlajn"
      },
      "execution_count": null,
      "outputs": []
    },
    {
      "cell_type": "code",
      "source": [
        "cond_gan = ConditionalGAN(\n",
        "    discriminator=discriminator, generator=generator, latent_dim=latent_dim\n",
        ")\n",
        "cond_gan.compile(\n",
        "    d_optimizer=keras.optimizers.Adam(learning_rate=0.0003),\n",
        "    g_optimizer=keras.optimizers.Adam(learning_rate=0.0003),\n",
        "    loss_fn=keras.losses.BinaryCrossentropy(),\n",
        ")"
      ],
      "metadata": {
        "id": "93SYg_faMPgM"
      },
      "execution_count": null,
      "outputs": []
    },
    {
      "cell_type": "markdown",
      "source": [
        "### Generate fake tasks\n"
      ],
      "metadata": {
        "id": "BaD0CijYovLL"
      }
    },
    {
      "cell_type": "code",
      "source": [
        "cond_gan.fit(data, epochs = 20)"
      ],
      "metadata": {
        "id": "EUknO4PHouTZ",
        "colab": {
          "base_uri": "https://localhost:8080/"
        },
        "outputId": "2cb8eff1-9f60-41a7-f89d-9f85c8d8f73b"
      },
      "execution_count": null,
      "outputs": [
        {
          "output_type": "stream",
          "name": "stdout",
          "text": [
            "Epoch 1/20\n",
            "182/182 [==============================] - 4s 13ms/step - g_loss: 1.0554 - d_loss: 0.8470\n",
            "Epoch 2/20\n",
            "182/182 [==============================] - 2s 12ms/step - g_loss: 2.7869 - d_loss: 0.1033\n",
            "Epoch 3/20\n",
            "182/182 [==============================] - 2s 13ms/step - g_loss: 4.2485 - d_loss: 0.0740\n",
            "Epoch 4/20\n",
            "182/182 [==============================] - 2s 12ms/step - g_loss: 3.1478 - d_loss: 1.2842\n",
            "Epoch 5/20\n",
            "182/182 [==============================] - 2s 13ms/step - g_loss: 1.7560 - d_loss: 0.4670\n",
            "Epoch 6/20\n",
            "182/182 [==============================] - 2s 13ms/step - g_loss: 1.5439 - d_loss: 0.5807\n",
            "Epoch 7/20\n",
            "182/182 [==============================] - 2s 12ms/step - g_loss: 0.8856 - d_loss: 0.7978\n",
            "Epoch 8/20\n",
            "182/182 [==============================] - 2s 13ms/step - g_loss: 0.8538 - d_loss: 0.6900\n",
            "Epoch 9/20\n",
            "182/182 [==============================] - 2s 13ms/step - g_loss: 0.8791 - d_loss: 0.6879\n",
            "Epoch 10/20\n",
            "182/182 [==============================] - 2s 13ms/step - g_loss: 0.9495 - d_loss: 0.6118\n",
            "Epoch 11/20\n",
            "182/182 [==============================] - 2s 13ms/step - g_loss: 0.7927 - d_loss: 0.6931\n",
            "Epoch 12/20\n",
            "182/182 [==============================] - 2s 12ms/step - g_loss: 0.8494 - d_loss: 0.7267\n",
            "Epoch 13/20\n",
            "182/182 [==============================] - 2s 12ms/step - g_loss: 0.9635 - d_loss: 0.6737\n",
            "Epoch 14/20\n",
            "182/182 [==============================] - 2s 12ms/step - g_loss: 1.0207 - d_loss: 0.6244\n",
            "Epoch 15/20\n",
            "182/182 [==============================] - 2s 12ms/step - g_loss: 0.7617 - d_loss: 0.8644\n",
            "Epoch 16/20\n",
            "182/182 [==============================] - 2s 12ms/step - g_loss: 0.8164 - d_loss: 0.6986\n",
            "Epoch 17/20\n",
            "182/182 [==============================] - 2s 12ms/step - g_loss: 0.8293 - d_loss: 0.6816\n",
            "Epoch 18/20\n",
            "182/182 [==============================] - 2s 12ms/step - g_loss: 0.8658 - d_loss: 0.6926\n",
            "Epoch 19/20\n",
            "182/182 [==============================] - 2s 12ms/step - g_loss: 0.8573 - d_loss: 0.6949\n",
            "Epoch 20/20\n",
            "182/182 [==============================] - 2s 12ms/step - g_loss: 0.8277 - d_loss: 0.6674\n"
          ]
        },
        {
          "output_type": "execute_result",
          "data": {
            "text/plain": [
              "<keras.callbacks.History at 0x7f9db21bba50>"
            ]
          },
          "metadata": {},
          "execution_count": 342
        }
      ]
    },
    {
      "cell_type": "code",
      "source": [
        "#We first extract the trained generator from our Conditiona GAN.\n",
        "trained_gen = cond_gan.generator\n",
        "\n",
        "# Choose the number of intermediate Tasks that would be generated in\n",
        "# between the interpolation + 2 (start and last Tasks).\n",
        "num_interpolation = 1000  # @param {type:\"integer\"}\n",
        "\n",
        "# Sample noise for the interpolation.\n",
        "interpolation_noise = tf.random.normal(shape=(1, latent_dim))\n",
        "interpolation_noise = tf.repeat(interpolation_noise, repeats=num_interpolation)\n",
        "interpolation_noise = tf.reshape(interpolation_noise, (num_interpolation, latent_dim))\n",
        "\n",
        "\n",
        "def interpolate_class(Class):\n",
        "    # Convert the start and end labels to one-hot encoded vectors.\n",
        "    first_label = keras.utils.to_categorical([Class]*num_interpolation, num_classes)\n",
        "\n",
        "    noise_and_labels = tf.concat([interpolation_noise, first_label], 1)\n",
        "    fake = trained_gen.predict(noise_and_labels)\n",
        "    return fake\n",
        "\n",
        "\n",
        "class_ = 1\n",
        "\n",
        "fake_Tasks = interpolate_class(class_)"
      ],
      "metadata": {
        "id": "TJ1JSLfmyIsf"
      },
      "execution_count": null,
      "outputs": []
    },
    {
      "cell_type": "markdown",
      "source": [
        "### Combined generated tasks with test dataset"
      ],
      "metadata": {
        "id": "YbnvomP1Q-AY"
      }
    },
    {
      "cell_type": "code",
      "source": [
        "new_X_test = np.concatenate((fake_Tasks,X_test) , axis = 0)\n",
        "new_y_test =  np.concatenate((y_test.values,np.zeros(num_interpolation)) , axis = 0).astype(\"int\")\n",
        "print(f\"Shape of combined dataset: {len(new_X_test)}\")\n",
        "print(f\"Shape of combined target: {len(new_y_test)}\")"
      ],
      "metadata": {
        "colab": {
          "base_uri": "https://localhost:8080/"
        },
        "id": "ayc1DQPhF2Fv",
        "outputId": "d601ef0f-6e2f-49a2-bb36-96dca1ba94dd"
      },
      "execution_count": null,
      "outputs": [
        {
          "output_type": "stream",
          "name": "stdout",
          "text": [
            "Shape of combined dataset: 3897\n",
            "Shape of combined target: 3897\n"
          ]
        }
      ]
    },
    {
      "cell_type": "markdown",
      "source": [
        "## **Classifier preformance after mix the data**"
      ],
      "metadata": {
        "id": "kEu0JmyDdWzL"
      }
    },
    {
      "cell_type": "markdown",
      "source": [
        "### RandomForestClassifier"
      ],
      "metadata": {
        "id": "3zGbtpaXVilY"
      }
    },
    {
      "cell_type": "code",
      "source": [
        "pre_rf_mixed =  rf.predict(new_X_test)\n",
        "rf_acc_mixed = accuracy_score(new_y_test, pre_rf_mixed)"
      ],
      "metadata": {
        "id": "vtbiC3hHcii6"
      },
      "execution_count": null,
      "outputs": []
    },
    {
      "cell_type": "code",
      "source": [
        "print('testing accuracy of Random Forest Classifier with mixed dataset: {} %'.format(rf_acc_mixed * 100))\n",
        "print('---------------------------------------------------------------')\n",
        "print(classification_report(new_y_test, pre_rf_mixed))"
      ],
      "metadata": {
        "colab": {
          "base_uri": "https://localhost:8080/"
        },
        "id": "QtbZ1DBaTWxI",
        "outputId": "8586a5aa-8255-4401-9ef2-73f62e308876"
      },
      "execution_count": null,
      "outputs": [
        {
          "output_type": "stream",
          "name": "stdout",
          "text": [
            "testing accuracy of Random Forest Classifier with mixed dataset: 64.22889402104182 %\n",
            "---------------------------------------------------------------\n",
            "              precision    recall  f1-score   support\n",
            "\n",
            "           0       0.46      0.10      0.16      1369\n",
            "           1       0.66      0.94      0.77      2528\n",
            "\n",
            "    accuracy                           0.64      3897\n",
            "   macro avg       0.56      0.52      0.47      3897\n",
            "weighted avg       0.59      0.64      0.56      3897\n",
            "\n"
          ]
        }
      ]
    },
    {
      "cell_type": "markdown",
      "source": [
        "### AdaBoostClassifier"
      ],
      "metadata": {
        "id": "TFkZ2I-7bbO3"
      }
    },
    {
      "cell_type": "code",
      "source": [
        "pre_ad_mixed = ad.predict(new_X_test)\n",
        "ad_acc_mixed = accuracy_score(new_y_test, pre_ad_mixed)"
      ],
      "metadata": {
        "id": "DKDwh2HjRARI"
      },
      "execution_count": null,
      "outputs": []
    },
    {
      "cell_type": "code",
      "source": [
        "print('testing accuracy of AdaBoostClassifier with mixed dataset: {} %'.format(ad_acc_mixed * 100))\n",
        "print('---------------------------------------------------------------')\n",
        "print(classification_report(new_y_test, pre_ad_mixed))"
      ],
      "metadata": {
        "colab": {
          "base_uri": "https://localhost:8080/"
        },
        "id": "DPVNbD77cxLz",
        "outputId": "11749572-1374-4899-d481-1efadef3d066"
      },
      "execution_count": null,
      "outputs": [
        {
          "output_type": "stream",
          "name": "stdout",
          "text": [
            "testing accuracy of AdaBoostClassifier with mixed dataset: 64.43418013856814 %\n",
            "---------------------------------------------------------------\n",
            "              precision    recall  f1-score   support\n",
            "\n",
            "           0       0.47      0.12      0.19      1369\n",
            "           1       0.66      0.93      0.77      2528\n",
            "\n",
            "    accuracy                           0.64      3897\n",
            "   macro avg       0.57      0.52      0.48      3897\n",
            "weighted avg       0.59      0.64      0.57      3897\n",
            "\n"
          ]
        }
      ]
    },
    {
      "cell_type": "markdown",
      "source": [
        "### Plotting"
      ],
      "metadata": {
        "id": "_zCkeEz6b0me"
      }
    },
    {
      "cell_type": "code",
      "source": [
        "dic_mix = {\n",
        "    'classifiers': ['RF' , 'Adaboost'],\n",
        "    'Accuracies' : [rf_acc_mixed,ad_acc_mixed] }\n",
        "\n",
        "accuracies_mix = pd.DataFrame.from_dict(dic_mix)"
      ],
      "metadata": {
        "id": "34MFEceMb0mf"
      },
      "execution_count": null,
      "outputs": []
    },
    {
      "cell_type": "code",
      "source": [
        "sns.set_theme(style=\"whitegrid\")\n",
        "sns.set(rc={'figure.figsize':(11.7,8.27)})\n",
        "ax = sns.barplot(x=\"classifiers\",y=\"Accuracies\",data=accuracies_mix, palette=\"Reds\")\n",
        "\n",
        "plt.xlabel(\"classifiers\", fontsize = 15)\n",
        "plt.ylabel(\"Accuracies\", fontsize = 15)\n",
        "plt.title(\"Accuracy comparison results\", fontsize = 20) \n",
        "plt.show()"
      ],
      "metadata": {
        "colab": {
          "base_uri": "https://localhost:8080/"
        },
        "id": "jBzLpkgOWhjs",
        "outputId": "096ecccd-892a-4fdf-bad1-6fe36dc8870b"
      },
      "execution_count": null,
      "outputs": [
        {
          "output_type": "display_data",
          "data": {
            "text/plain": [
              "<Figure size 842.4x595.44 with 1 Axes>"
            ],
            "image/png": "[encoded data removed]"
          },
          "metadata": {}
        }
      ]
    },
    {
      "cell_type": "markdown",
      "source": [
        "## **Cascade framwork**"
      ],
      "metadata": {
        "id": "g-IEDu3PdmJC"
      }
    },
    {
      "cell_type": "code",
      "source": [
        "labels_ = keras.utils.to_categorical(new_y_test, 2)\n",
        "random_vectors = tf.concat([new_X_test, labels_], axis=1 )"
      ],
      "metadata": {
        "id": "zAlYxio1dQ6U"
      },
      "execution_count": null,
      "outputs": []
    },
    {
      "cell_type": "code",
      "source": [
        "discrim_predict = cond_gan.discriminator.predict(random_vectors)\n",
        "discrim_predict = np.round(discrim_predict) \n",
        "Real_indexs = np.where(discrim_predict == 1)[0]"
      ],
      "metadata": {
        "id": "LnXoyB7-eRvr"
      },
      "execution_count": null,
      "outputs": []
    },
    {
      "cell_type": "code",
      "source": [
        "Real_indexs.shape"
      ],
      "metadata": {
        "colab": {
          "base_uri": "https://localhost:8080/"
        },
        "id": "wVZCYRzOkAWv",
        "outputId": "e4ddb409-1b20-4cc6-dfab-80a88ff53dc6"
      },
      "execution_count": null,
      "outputs": [
        {
          "output_type": "execute_result",
          "data": {
            "text/plain": [
              "(2419,)"
            ]
          },
          "metadata": {},
          "execution_count": 406
        }
      ]
    },
    {
      "cell_type": "code",
      "source": [
        "Testr = new_X_test[Real_indexs]\n",
        "labelr = np.ones(Testr.shape[0]).astype(\"int\")"
      ],
      "metadata": {
        "id": "0GuafU92nBgd"
      },
      "execution_count": null,
      "outputs": []
    },
    {
      "cell_type": "code",
      "source": [
        "labelr.shape"
      ],
      "metadata": {
        "colab": {
          "base_uri": "https://localhost:8080/"
        },
        "id": "QQs_7JVp2TVJ",
        "outputId": "a7bd2630-34e1-48b7-ad61-714ce08c484b"
      },
      "execution_count": null,
      "outputs": [
        {
          "output_type": "execute_result",
          "data": {
            "text/plain": [
              "(2419,)"
            ]
          },
          "metadata": {},
          "execution_count": 408
        }
      ]
    },
    {
      "cell_type": "markdown",
      "source": [
        "## **Classifier preformance with cascade framwork**"
      ],
      "metadata": {
        "id": "aa7ZA6kSnlm0"
      }
    },
    {
      "cell_type": "markdown",
      "source": [
        "### RandomForestClassifier"
      ],
      "metadata": {
        "id": "TBRLYuH2nlm1"
      }
    },
    {
      "cell_type": "code",
      "source": [
        "pre_rf_cas =  rf.predict(Testr)\n",
        "rf_acc_cas = accuracy_score(labelr, pre_rf_cas)"
      ],
      "metadata": {
        "id": "A0blRFy0nlm2"
      },
      "execution_count": null,
      "outputs": []
    },
    {
      "cell_type": "code",
      "source": [
        "print('testing accuracy of Random Forest Classifier with mixed dataset: {} %'.format(rf_acc_cas * 100))\n",
        "print('---------------------------------------------------------------')\n",
        "print(classification_report(labelr, pre_rf_cas))"
      ],
      "metadata": {
        "colab": {
          "base_uri": "https://localhost:8080/"
        },
        "outputId": "3eab46a8-94b8-4359-8f21-6da74a543fef",
        "id": "wHx6p5X6nlm3"
      },
      "execution_count": null,
      "outputs": [
        {
          "output_type": "stream",
          "name": "stdout",
          "text": [
            "testing accuracy of Random Forest Classifier with mixed dataset: 92.31087226126499 %\n",
            "---------------------------------------------------------------\n",
            "              precision    recall  f1-score   support\n",
            "\n",
            "           0       0.00      0.00      0.00         0\n",
            "           1       1.00      0.92      0.96      2419\n",
            "\n",
            "    accuracy                           0.92      2419\n",
            "   macro avg       0.50      0.46      0.48      2419\n",
            "weighted avg       1.00      0.92      0.96      2419\n",
            "\n"
          ]
        },
        {
          "output_type": "stream",
          "name": "stderr",
          "text": [
            "/usr/local/lib/python3.7/dist-packages/sklearn/metrics/_classification.py:1318: UndefinedMetricWarning: Recall and F-score are ill-defined and being set to 0.0 in labels with no true samples. Use `zero_division` parameter to control this behavior.\n",
            "  _warn_prf(average, modifier, msg_start, len(result))\n",
            "/usr/local/lib/python3.7/dist-packages/sklearn/metrics/_classification.py:1318: UndefinedMetricWarning: Recall and F-score are ill-defined and being set to 0.0 in labels with no true samples. Use `zero_division` parameter to control this behavior.\n",
            "  _warn_prf(average, modifier, msg_start, len(result))\n",
            "/usr/local/lib/python3.7/dist-packages/sklearn/metrics/_classification.py:1318: UndefinedMetricWarning: Recall and F-score are ill-defined and being set to 0.0 in labels with no true samples. Use `zero_division` parameter to control this behavior.\n",
            "  _warn_prf(average, modifier, msg_start, len(result))\n"
          ]
        }
      ]
    },
    {
      "cell_type": "markdown",
      "source": [
        "### AdaBoostClassifier"
      ],
      "metadata": {
        "id": "p-kPhgmCnlm4"
      }
    },
    {
      "cell_type": "code",
      "source": [
        "pre_ad_cas = ad.predict(Testr)\n",
        "ad_acc_cas = accuracy_score(labelr, pre_ad_cas)"
      ],
      "metadata": {
        "id": "II1z1bsnnlm4"
      },
      "execution_count": null,
      "outputs": []
    },
    {
      "cell_type": "code",
      "source": [
        "print('testing accuracy of AdaBoostClassifier with mixed dataset: {} %'.format(ad_acc_cas * 100))\n",
        "print('---------------------------------------------------------------')\n",
        "print(classification_report(labelr, pre_ad_cas))"
      ],
      "metadata": {
        "colab": {
          "base_uri": "https://localhost:8080/"
        },
        "outputId": "46c1edd2-a571-4e75-ac91-78e35befb288",
        "id": "ymQtRWSunlm4"
      },
      "execution_count": null,
      "outputs": [
        {
          "output_type": "stream",
          "name": "stdout",
          "text": [
            "testing accuracy of AdaBoostClassifier with mixed dataset: 91.27738735014469 %\n",
            "---------------------------------------------------------------\n",
            "              precision    recall  f1-score   support\n",
            "\n",
            "           0       0.00      0.00      0.00         0\n",
            "           1       1.00      0.91      0.95      2419\n",
            "\n",
            "    accuracy                           0.91      2419\n",
            "   macro avg       0.50      0.46      0.48      2419\n",
            "weighted avg       1.00      0.91      0.95      2419\n",
            "\n"
          ]
        },
        {
          "output_type": "stream",
          "name": "stderr",
          "text": [
            "/usr/local/lib/python3.7/dist-packages/sklearn/metrics/_classification.py:1318: UndefinedMetricWarning: Recall and F-score are ill-defined and being set to 0.0 in labels with no true samples. Use `zero_division` parameter to control this behavior.\n",
            "  _warn_prf(average, modifier, msg_start, len(result))\n",
            "/usr/local/lib/python3.7/dist-packages/sklearn/metrics/_classification.py:1318: UndefinedMetricWarning: Recall and F-score are ill-defined and being set to 0.0 in labels with no true samples. Use `zero_division` parameter to control this behavior.\n",
            "  _warn_prf(average, modifier, msg_start, len(result))\n",
            "/usr/local/lib/python3.7/dist-packages/sklearn/metrics/_classification.py:1318: UndefinedMetricWarning: Recall and F-score are ill-defined and being set to 0.0 in labels with no true samples. Use `zero_division` parameter to control this behavior.\n",
            "  _warn_prf(average, modifier, msg_start, len(result))\n"
          ]
        }
      ]
    },
    {
      "cell_type": "markdown",
      "source": [
        "### Plotting"
      ],
      "metadata": {
        "id": "6LqqMJovnlm4"
      }
    },
    {
      "cell_type": "code",
      "source": [
        "dic_cas = {\n",
        "    'classifiers': ['RF' , 'Adaboost'],\n",
        "    'Accuracies' : [rf_acc_cas,ad_acc_cas] }\n",
        "\n",
        "accuracies_cas = pd.DataFrame.from_dict(dic_cas)"
      ],
      "metadata": {
        "id": "oq0I4eWanlm4"
      },
      "execution_count": null,
      "outputs": []
    },
    {
      "cell_type": "code",
      "source": [
        "sns.set_theme(style=\"whitegrid\")\n",
        "sns.set(rc={'figure.figsize':(11.7,8.27)})\n",
        "ax = sns.barplot(x=\"classifiers\",y=\"Accuracies\",data=accuracies_cas, palette=\"Reds\")\n",
        "\n",
        "plt.xlabel(\"classifiers\", fontsize = 15)\n",
        "plt.ylabel(\"Accuracies\", fontsize = 15)\n",
        "plt.title(\"Accuracy comparison results\", fontsize = 20) \n",
        "plt.show()"
      ],
      "metadata": {
        "colab": {
          "base_uri": "https://localhost:8080/",
          "height": 540
        },
        "id": "LoNYe0mwnBdG",
        "outputId": "afb15d37-a2d0-46e1-adc6-b37d80b168ba"
      },
      "execution_count": null,
      "outputs": [
        {
          "output_type": "display_data",
          "data": {
            "text/plain": [
              "<Figure size 842.4x595.44 with 1 Axes>"
            ],
            "image/png": "[encoded data removed]"
          },
          "metadata": {}
        }
      ]
    },
    {
      "cell_type": "markdown",
      "source": [
        "## **Compare classifiers before and after cascade**"
      ],
      "metadata": {
        "id": "7cr2jFWLYKhL"
      }
    },
    {
      "cell_type": "code",
      "source": [
        "rf_dic = {\n",
        "    'classifiers': ['RF' , 'RF & cascade'],\n",
        "    'Accuracies' : [rf_acc_mixed , rf_acc_cas] }\n",
        "\n",
        "accuracies_cas_rf = pd.DataFrame.from_dict(rf_dic)\n",
        "\n",
        "\n",
        "ad_dic = {\n",
        "    'classifiers': ['Ad' , 'Ad & cascade'],\n",
        "    'Accuracies' : [ad_acc_mixed,ad_acc_cas] }\n",
        "\n",
        "accuracies_cas_ad = pd.DataFrame.from_dict(ad_dic)"
      ],
      "metadata": {
        "id": "VvCPukngYKhL"
      },
      "execution_count": null,
      "outputs": []
    },
    {
      "cell_type": "code",
      "source": [
        "sns.set_theme(style=\"whitegrid\")\n",
        "sns.set(rc={'figure.figsize':(11.7,8.27)})\n",
        "ax = sns.barplot(x=\"classifiers\",y=\"Accuracies\",data=accuracies_cas_rf, palette=\"Reds\")\n",
        "\n",
        "plt.xlabel(\"classifiers\", fontsize = 15)\n",
        "plt.ylabel(\"Accuracies\", fontsize = 15)\n",
        "plt.title(\"Accuracies of RandomForest Classifier\", fontsize = 20) \n",
        "plt.show()"
      ],
      "metadata": {
        "colab": {
          "base_uri": "https://localhost:8080/",
          "height": 540
        },
        "id": "ybD6Nz9SY4E1",
        "outputId": "6e01f92a-d022-4a92-f6e6-38ed95a5f86f"
      },
      "execution_count": null,
      "outputs": [
        {
          "output_type": "display_data",
          "data": {
            "text/plain": [
              "<Figure size 842.4x595.44 with 1 Axes>"
            ],
            "image/png": "[encoded data removed]"
          },
          "metadata": {}
        }
      ]
    },
    {
      "cell_type": "code",
      "source": [
        "sns.set_theme(style=\"whitegrid\")\n",
        "sns.set(rc={'figure.figsize':(11.7,8.27)})\n",
        "ax = sns.barplot(x=\"classifiers\",y=\"Accuracies\",data=accuracies_cas_ad, palette=\"Reds\")\n",
        "\n",
        "plt.xlabel(\"classifiers\", fontsize = 15)\n",
        "plt.ylabel(\"Accuracies\", fontsize = 15)\n",
        "plt.title(\"Accuracies of AdaBoost Classifier\", fontsize = 20) \n",
        "plt.show()"
      ],
      "metadata": {
        "colab": {
          "base_uri": "https://localhost:8080/",
          "height": 540
        },
        "outputId": "a276b30b-0c90-4b27-c239-4483580fb825",
        "id": "hx0EIb_-YKhM"
      },
      "execution_count": null,
      "outputs": [
        {
          "output_type": "display_data",
          "data": {
            "text/plain": [
              "<Figure size 842.4x595.44 with 1 Axes>"
            ],
            "image/png": "[encoded data removed]"
          },
          "metadata": {}
        }
      ]
    },
    {
      "cell_type": "code",
      "source": [
        ""
      ],
      "metadata": {
        "id": "4om_KFz1bea1"
      },
      "execution_count": null,
      "outputs": []
    }
  ]
}